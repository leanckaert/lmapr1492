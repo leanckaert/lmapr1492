{
 "cells": [
  {
   "cell_type": "code",
   "execution_count": 16,
   "id": "8e41b492",
   "metadata": {},
   "outputs": [],
   "source": [
    "import numpy as np\n",
    "from mp_api.client import MPRester\n",
    "from pymatgen.core.operations import SymmOp\n",
    "from pymatgen.symmetry.analyzer import SpacegroupAnalyzer\n",
    "from pymatgen.electronic_structure.plotter import BSPlotter\n",
    "from pymatgen.phonon.plotter import PhononBSPlotter\n",
    "from jupyter_jsmol.pymatgen import quick_view\n",
    "from lmapr1492 import plot_brillouin_zone, get_plot_bs, get_plot_dos, get_plot_bs_and_dos, get_branch_wavevectors\n",
    "from plotly.subplots import make_subplots\n",
    "import plotly.graph_objects as go"
   ]
  },
  {
   "cell_type": "code",
   "execution_count": 17,
   "id": "68479a66",
   "metadata": {},
   "outputs": [],
   "source": [
    "mp_key = \"PgRtTbiMJ5N3guKB8xgaTcXoz0bUQyKD\"\n",
    "mp_id = \"mp-15788\""
   ]
  },
  {
   "cell_type": "code",
   "execution_count": 18,
   "id": "f312daca",
   "metadata": {},
   "outputs": [
    {
     "data": {
      "application/vnd.jupyter.widget-view+json": {
       "model_id": "20eef8b860d148c6a095d80d2d1eb495",
       "version_major": 2,
       "version_minor": 0
      },
      "text/plain": [
       "Retrieving MaterialsDoc documents:   0%|          | 0/1 [00:00<?, ?it/s]"
      ]
     },
     "metadata": {},
     "output_type": "display_data"
    },
    {
     "data": {
      "application/vnd.jupyter.widget-view+json": {
       "model_id": "0eb053bc0b5340009a66b0724d52b405",
       "version_major": 2,
       "version_minor": 0
      },
      "text/plain": [
       "Retrieving ElectronicStructureDoc documents:   0%|          | 0/1 [00:00<?, ?it/s]"
      ]
     },
     "metadata": {},
     "output_type": "display_data"
    },
    {
     "data": {
      "application/vnd.jupyter.widget-view+json": {
       "model_id": "721749dcb12746b2a1124a6ddc6dd149",
       "version_major": 2,
       "version_minor": 0
      },
      "text/plain": [
       "Retrieving ElectronicStructureDoc documents:   0%|          | 0/1 [00:00<?, ?it/s]"
      ]
     },
     "metadata": {},
     "output_type": "display_data"
    },
    {
     "data": {
      "application/vnd.jupyter.widget-view+json": {
       "model_id": "a3617e62d25c45469302189cb784b9da",
       "version_major": 2,
       "version_minor": 0
      },
      "text/plain": [
       "Retrieving PhononBSDOSDoc documents:   0%|          | 0/1 [00:00<?, ?it/s]"
      ]
     },
     "metadata": {},
     "output_type": "display_data"
    },
    {
     "data": {
      "application/vnd.jupyter.widget-view+json": {
       "model_id": "91c3148670a4474fa14d425eee11e33a",
       "version_major": 2,
       "version_minor": 0
      },
      "text/plain": [
       "Retrieving PhononBSDOSDoc documents:   0%|          | 0/1 [00:00<?, ?it/s]"
      ]
     },
     "metadata": {},
     "output_type": "display_data"
    }
   ],
   "source": [
    "with MPRester(mp_key) as m:\n",
    "    prim_struc = m.get_structure_by_material_id(mp_id)\n",
    "    el_bs = m.get_bandstructure_by_material_id(mp_id)\n",
    "    el_dos = m.get_dos_by_material_id(mp_id)\n",
    "    ph_bs = m.get_phonon_bandstructure_by_material_id(mp_id)\n",
    "    ph_dos = m.get_phonon_dos_by_material_id(mp_id)\n",
    "conv_struc = SpacegroupAnalyzer(prim_struc).get_conventional_standard_structure()\n",
    "symmops = SpacegroupAnalyzer(conv_struc).get_space_group_operations()"
   ]
  },
  {
   "cell_type": "markdown",
   "id": "22015eb3",
   "metadata": {},
   "source": [
    "# Structure symmetry"
   ]
  },
  {
   "cell_type": "code",
   "execution_count": 32,
   "id": "d91e59d6-b967-4826-a2de-55966c0d65dc",
   "metadata": {},
   "outputs": [],
   "source": [
    "i_atom = 7\n",
    "i_symmop = 2"
   ]
  },
  {
   "cell_type": "code",
   "execution_count": 33,
   "id": "0067bf00",
   "metadata": {},
   "outputs": [
    {
     "data": {
      "application/vnd.jupyter.widget-view+json": {
       "model_id": "ddc05b04210c4d1999f21c6ac83868ae",
       "version_major": 2,
       "version_minor": 0
      },
      "text/plain": [
       "JsmolView(layout=Layout(align_self='stretch', height='400px'))"
      ]
     },
     "metadata": {},
     "output_type": "display_data"
    }
   ],
   "source": [
    "view = quick_view(prim_struc, \"packed\", conventional = True)\n",
    "display(view)"
   ]
  },
  {
   "cell_type": "code",
   "execution_count": 34,
   "id": "7c673995",
   "metadata": {},
   "outputs": [],
   "source": [
    "view.script('select antimony; color lightsalmon')\n",
    "view.script('select sodium; color gold')\n",
    "view.script('select lithium; color palegreen')\n",
    "view.script('draw SYMOP ' + str(i_symmop) + ' {atomno = ' + str(i_atom) + '}')"
   ]
  },
  {
   "cell_type": "markdown",
   "id": "3a8f3c07",
   "metadata": {},
   "source": [
    "# Task 4 : Answers"
   ]
  },
  {
   "cell_type": "code",
   "execution_count": 26,
   "id": "d8bddc48",
   "metadata": {},
   "outputs": [
    {
     "data": {
      "application/vnd.jupyter.widget-view+json": {
       "model_id": "b21781d42c94426ab3874561a081c13e",
       "version_major": 2,
       "version_minor": 0
      },
      "text/plain": [
       "Retrieving MaterialsDoc documents:   0%|          | 0/1 [00:00<?, ?it/s]"
      ]
     },
     "metadata": {},
     "output_type": "display_data"
    }
   ],
   "source": [
    "from pymatgen.symmetry.analyzer import SpacegroupAnalyzer\n",
    "\n",
    "with MPRester(mp_key) as m:\n",
    "    S = m.get_structure_by_material_id(mp_id)"
   ]
  },
  {
   "cell_type": "code",
   "execution_count": 31,
   "id": "e6652f6c",
   "metadata": {
    "scrolled": true
   },
   "outputs": [
    {
     "name": "stdout",
     "output_type": "stream",
     "text": [
      "Les vecteurs de bases de son réseau direct sont : \n",
      " 6.237650 -1.953426 -0.006551\n",
      "6.237650 1.953426 -0.006551\n",
      "5.629397 -0.000000 3.321760 \n",
      "\n",
      "Les vecteurs de base de son réseau réciproque sont : \n",
      " 0.502755 -1.608247 -0.852021\n",
      "0.502755 1.608247 -0.852021\n",
      "0.001983 0.000000 1.888162 \n",
      "\n",
      "Son type de maille est : \n",
      " rhombohedral \n",
      "\n",
      "Son système cristallin est : \n",
      " trigonal \n",
      "\n",
      "Son groupe ponctuel est : \n",
      " -3m \n",
      "\n"
     ]
    }
   ],
   "source": [
    "print(\"Les vecteurs de bases de son réseau direct sont :\",\"\\n\",S.lattice,\"\\n\")\n",
    "\n",
    "print (\"Les vecteurs de base de son réseau réciproque sont :\",\"\\n\",S.lattice.reciprocal_lattice,\"\\n\")\n",
    "\n",
    "print(\"Son type de maille est :\",\"\\n\",SpacegroupAnalyzer(S).get_lattice_type(),\"\\n\")\n",
    "\n",
    "print(\"Son système cristallin est :\",\"\\n\",SpacegroupAnalyzer(S).get_crystal_system(),\"\\n\")\n",
    "\n",
    "print(\"Son groupe ponctuel est :\",\"\\n\",SpacegroupAnalyzer(S).get_point_group_symbol(),\"\\n\")"
   ]
  }
 ],
 "metadata": {
  "kernelspec": {
   "display_name": "Python 3 (ipykernel)",
   "language": "python",
   "name": "python3"
  },
  "language_info": {
   "codemirror_mode": {
    "name": "ipython",
    "version": 3
   },
   "file_extension": ".py",
   "mimetype": "text/x-python",
   "name": "python",
   "nbconvert_exporter": "python",
   "pygments_lexer": "ipython3",
   "version": "3.9.13"
  }
 },
 "nbformat": 4,
 "nbformat_minor": 5
}
