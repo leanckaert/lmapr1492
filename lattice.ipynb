{
 "cells": [
  {
   "cell_type": "markdown",
   "id": "f3861415",
   "metadata": {},
   "source": [
    "# LiYS2"
   ]
  },
  {
   "cell_type": "code",
   "execution_count": 1,
   "id": "8e41b492",
   "metadata": {},
   "outputs": [],
   "source": [
    "from mp_api.client import MPRester\n",
    "from pymatgen.symmetry.analyzer import SpacegroupAnalyzer"
   ]
  },
  {
   "cell_type": "code",
   "execution_count": 2,
   "id": "68479a66",
   "metadata": {},
   "outputs": [],
   "source": [
    "mp_key = \"PgRtTbiMJ5N3guKB8xgaTcXoz0bUQyKD\"\n",
    "mp_id = \"mp-15788\""
   ]
  },
  {
   "cell_type": "code",
   "execution_count": 3,
   "id": "f312daca",
   "metadata": {},
   "outputs": [
    {
     "data": {
      "application/vnd.jupyter.widget-view+json": {
       "model_id": "c7dab2ab54b7447e9551536c50a74b7a",
       "version_major": 2,
       "version_minor": 0
      },
      "text/plain": [
       "Retrieving MaterialsDoc documents:   0%|          | 0/1 [00:00<?, ?it/s]"
      ]
     },
     "metadata": {},
     "output_type": "display_data"
    }
   ],
   "source": [
    "with MPRester(mp_key) as m:\n",
    "    prim_struc = m.get_structure_by_material_id(mp_id)"
   ]
  },
  {
   "cell_type": "markdown",
   "id": "3a8f3c07",
   "metadata": {},
   "source": [
    "# 1) Réseau direct"
   ]
  },
  {
   "cell_type": "code",
   "execution_count": 4,
   "id": "68bb0227",
   "metadata": {},
   "outputs": [
    {
     "name": "stdout",
     "output_type": "stream",
     "text": [
      "Pour caractériser une maille cristalline, il est nécessaire de définir les longueurs des vecteurs de base, ainsi que les angles qui les séparent.\n",
      "Les longueurs des vecteurs de base (en Ångström) sont :\n",
      "a = 6.536375110089439\n",
      "b = 6.536375110089439\n",
      "c = 6.536374853913139\n",
      "\n",
      "On constate que les 3 vecteurs ont la même longueur.\n",
      "Les angles (en degrés) sont :\n",
      "alpha = 34.777656810319016\n",
      "beta = 34.777656810319016\n",
      "gamma = 34.77765343228872\n",
      "\n",
      "Les 3 angles sont également identiques.\n",
      "Enfin, les coordonnées des vecteurs de base dans le repère cartésien :\n",
      "6.237650 -1.953426 -0.006551\n",
      "6.237650 1.953426 -0.006551\n",
      "5.629397 -0.000000 3.321760\n"
     ]
    }
   ],
   "source": [
    "vecteurs = prim_struc.lattice\n",
    "normes = vecteurs.abc\n",
    "angles = vecteurs.angles\n",
    "\n",
    "print(\"Pour caractériser une maille cristalline, il est nécessaire de définir les longueurs des vecteurs de base, ainsi que les angles qui les séparent.\\nLes longueurs des vecteurs de base (en Ångström) sont :\")\n",
    "print(\"a = {}\\nb = {}\\nc = {}\\n\".format(normes[0], normes[1], normes[2]))\n",
    "print(\"On constate que les 3 vecteurs ont la même longueur.\\nLes angles (en degrés) sont :\")\n",
    "print(\"alpha = {}\\nbeta = {}\\ngamma = {}\\n\".format(angles[0], angles[1], angles[2]))\n",
    "print(\"Les 3 angles sont également identiques.\\nEnfin, les coordonnées des vecteurs de base dans le repère cartésien :\")\n",
    "print(vecteurs)"
   ]
  },
  {
   "cell_type": "markdown",
   "id": "f1f71d0b",
   "metadata": {},
   "source": [
    "# 2) Réseau réciproque"
   ]
  },
  {
   "cell_type": "code",
   "execution_count": 5,
   "id": "7d402c5b",
   "metadata": {},
   "outputs": [
    {
     "name": "stdout",
     "output_type": "stream",
     "text": [
      "De la même façon, caractérisons la maille dans le réseau réciproque.\n",
      "Les longueurs des vecteurs de base (en Ångström) sont :\n",
      "a = 6.536375110089439\n",
      "b = 6.536375110089439\n",
      "c = 6.536374853913139\n",
      "\n",
      "On constate que les 3 vecteurs ont aussi la même longueur.\n",
      "Les angles (en degrés) sont :\n",
      "alpha = 34.777656810319016\n",
      "beta = 34.777656810319016\n",
      "gamma = 34.77765343228872\n",
      "\n",
      "Les 3 angles sont à nouveau identiques.\n",
      "Enfin, les coordonnées des vecteurs de base dans le repère cartésien :\n",
      "0.502755 -1.608247 -0.852021\n",
      "0.502755 1.608247 -0.852021\n",
      "0.001983 0.000000 1.888162\n"
     ]
    }
   ],
   "source": [
    "vecteurs_rec = prim_struc.lattice.reciprocal_lattice\n",
    "normes_rec = vecteurs.abc\n",
    "angles_rec = vecteurs.angles\n",
    "\n",
    "print(\"De la même façon, caractérisons la maille dans le réseau réciproque.\\nLes longueurs des vecteurs de base (en Ångström) sont :\")\n",
    "print(\"a = {}\\nb = {}\\nc = {}\\n\".format(normes_rec[0], normes_rec[1], normes_rec[2]))\n",
    "print(\"On constate que les 3 vecteurs ont aussi la même longueur.\\nLes angles (en degrés) sont :\")\n",
    "print(\"alpha = {}\\nbeta = {}\\ngamma = {}\\n\".format(angles_rec[0], angles_rec[1], angles_rec[2]))\n",
    "print(\"Les 3 angles sont à nouveau identiques.\\nEnfin, les coordonnées des vecteurs de base dans le repère cartésien :\")\n",
    "print(vecteurs_rec)"
   ]
  },
  {
   "cell_type": "markdown",
   "id": "be604db9",
   "metadata": {},
   "source": [
    "# 3) Structure cristalline et symétrie"
   ]
  },
  {
   "cell_type": "code",
   "execution_count": 6,
   "id": "e6652f6c",
   "metadata": {
    "scrolled": true
   },
   "outputs": [
    {
     "name": "stdout",
     "output_type": "stream",
     "text": [
      "Son type de maille est :\n",
      "rhombohedral\n",
      "Son système cristallin est :\n",
      "trigonal\n",
      "Ce qui est logique car on a vu plus haut que a = b = c et alpha = beta = gamma ≠ 90°, ceci décrit bien un système trigonal en 3D.\n",
      "Son groupe ponctuel est :\n",
      "-3m\n",
      "Etant donné que le système cristallin est trigonal, on s'attend bien à avoir un 3 en première position.\n"
     ]
    }
   ],
   "source": [
    "print(\"Son type de maille est :\")\n",
    "print(SpacegroupAnalyzer(prim_struc).get_lattice_type())\n",
    "\n",
    "print(\"Son système cristallin est :\")\n",
    "print(SpacegroupAnalyzer(prim_struc).get_crystal_system())\n",
    "print(\"Ce qui est logique car on a vu plus haut que a = b = c et alpha = beta = gamma ≠ 90°, ceci décrit bien un système trigonal en 3D.\")\n",
    "\n",
    "print(\"Son groupe ponctuel est :\")\n",
    "print(SpacegroupAnalyzer(prim_struc).get_point_group_symbol())\n",
    "print(\"Etant donné que le système cristallin est trigonal, on s'attend bien à avoir un 3 en première position.\")"
   ]
  }
 ],
 "metadata": {
  "kernelspec": {
   "display_name": "Python 3 (ipykernel)",
   "language": "python",
   "name": "python3"
  },
  "language_info": {
   "codemirror_mode": {
    "name": "ipython",
    "version": 3
   },
   "file_extension": ".py",
   "mimetype": "text/x-python",
   "name": "python",
   "nbconvert_exporter": "python",
   "pygments_lexer": "ipython3",
   "version": "3.9.13"
  }
 },
 "nbformat": 4,
 "nbformat_minor": 5
}
